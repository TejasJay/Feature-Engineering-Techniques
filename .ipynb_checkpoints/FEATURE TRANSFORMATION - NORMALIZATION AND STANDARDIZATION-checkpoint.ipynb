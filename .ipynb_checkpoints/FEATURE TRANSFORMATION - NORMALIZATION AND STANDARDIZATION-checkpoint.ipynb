{
 "cells": [
  {
   "cell_type": "markdown",
   "id": "c6bc24fb",
   "metadata": {},
   "source": [
    "# NORMALIZATION AND STANDARDIZATION"
   ]
  },
  {
   "cell_type": "markdown",
   "id": "c39f73c8",
   "metadata": {},
   "source": [
    "### Why do we need transformation of features\n",
    "\n",
    "- where concepts like Euclidean distance is used or concepts where we try to reach global minia we use standardization\n",
    "- The reason we reduce the scale is so that the global minia reaches quickly\n",
    "- If the data is not scaled and passed to the ML model then the values with higher magnitude gets higher importance\n",
    "- Transformation is not required in any algoritm that use decision trees\n",
    "- Deep Learning techniques (ANN, CNN, RNN) all requires standardization or scaling because all these concepts use gradient descent to reach global minima.\n",
    "- Since images ranges from 0 to 255 pixel we can bring the image to scale between 0 to 1 by dividing it by 255\n"
   ]
  },
  {
   "cell_type": "markdown",
   "id": "15e0a271",
   "metadata": {},
   "source": [
    "### Types of Transformations\n",
    "- Normalization And Standardization\n",
    "- Scaling to Minimum And Maximum values\n",
    "- Scaling To Median And Quantiles\n",
    "- Guassian Transformation \n",
    "- Logarithmic Transformation \n",
    "- Reciprocal Trnasformation \n",
    "- Square Root Transformation \n",
    "- Exponential Trnasformation \n",
    "- Box Cox Transformation"
   ]
  },
  {
   "cell_type": "markdown",
   "id": "6ce4daf3",
   "metadata": {},
   "source": [
    "### Standardization\n",
    "- We try to bring all the variables or features to a similar scale. \n",
    "- standarisation means centering the variable at zero. \n",
    "- z = (x-x_mean) / std"
   ]
  },
  {
   "cell_type": "code",
   "execution_count": 2,
   "id": "0d4e0dd9",
   "metadata": {},
   "outputs": [
    {
     "data": {
      "text/html": [
       "<div>\n",
       "<style scoped>\n",
       "    .dataframe tbody tr th:only-of-type {\n",
       "        vertical-align: middle;\n",
       "    }\n",
       "\n",
       "    .dataframe tbody tr th {\n",
       "        vertical-align: top;\n",
       "    }\n",
       "\n",
       "    .dataframe thead th {\n",
       "        text-align: right;\n",
       "    }\n",
       "</style>\n",
       "<table border=\"1\" class=\"dataframe\">\n",
       "  <thead>\n",
       "    <tr style=\"text-align: right;\">\n",
       "      <th></th>\n",
       "      <th>Survived</th>\n",
       "      <th>Pclass</th>\n",
       "      <th>Age</th>\n",
       "      <th>Fare</th>\n",
       "    </tr>\n",
       "  </thead>\n",
       "  <tbody>\n",
       "    <tr>\n",
       "      <th>0</th>\n",
       "      <td>0</td>\n",
       "      <td>3</td>\n",
       "      <td>22.0</td>\n",
       "      <td>7.2500</td>\n",
       "    </tr>\n",
       "    <tr>\n",
       "      <th>1</th>\n",
       "      <td>1</td>\n",
       "      <td>1</td>\n",
       "      <td>38.0</td>\n",
       "      <td>71.2833</td>\n",
       "    </tr>\n",
       "    <tr>\n",
       "      <th>2</th>\n",
       "      <td>1</td>\n",
       "      <td>3</td>\n",
       "      <td>26.0</td>\n",
       "      <td>7.9250</td>\n",
       "    </tr>\n",
       "    <tr>\n",
       "      <th>3</th>\n",
       "      <td>1</td>\n",
       "      <td>1</td>\n",
       "      <td>35.0</td>\n",
       "      <td>53.1000</td>\n",
       "    </tr>\n",
       "    <tr>\n",
       "      <th>4</th>\n",
       "      <td>0</td>\n",
       "      <td>3</td>\n",
       "      <td>35.0</td>\n",
       "      <td>8.0500</td>\n",
       "    </tr>\n",
       "  </tbody>\n",
       "</table>\n",
       "</div>"
      ],
      "text/plain": [
       "   Survived  Pclass   Age     Fare\n",
       "0         0       3  22.0   7.2500\n",
       "1         1       1  38.0  71.2833\n",
       "2         1       3  26.0   7.9250\n",
       "3         1       1  35.0  53.1000\n",
       "4         0       3  35.0   8.0500"
      ]
     },
     "execution_count": 2,
     "metadata": {},
     "output_type": "execute_result"
    }
   ],
   "source": [
    "# importing libraries and getting the data\n",
    "import pandas as pd\n",
    "import numpy as np\n",
    "\n",
    "df = pd.read_csv(r\"C:\\Users\\tejas\\Desktop\\ineuron\\feature engineering\\data\\titanic.csv\", usecols=['Pclass','Age','Fare','Survived'])\n",
    "df.head()"
   ]
  },
  {
   "cell_type": "code",
   "execution_count": null,
   "id": "669177e0",
   "metadata": {},
   "outputs": [],
   "source": []
  }
 ],
 "metadata": {
  "kernelspec": {
   "display_name": "Python 3",
   "language": "python",
   "name": "python3"
  },
  "language_info": {
   "codemirror_mode": {
    "name": "ipython",
    "version": 3
   },
   "file_extension": ".py",
   "mimetype": "text/x-python",
   "name": "python",
   "nbconvert_exporter": "python",
   "pygments_lexer": "ipython3",
   "version": "3.8.8"
  }
 },
 "nbformat": 4,
 "nbformat_minor": 5
}
